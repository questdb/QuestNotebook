{
 "cells": [
  {
   "attachments": {},
   "cell_type": "markdown",
   "metadata": {},
   "source": [
    "![logo](img/quest.svg)\n",
    "# QuestDB Tutorial for Python"
   ]
  },
  {
   "cell_type": "markdown",
   "metadata": {},
   "source": [
    "## Getting Started\n",
    "\n",
    "To get started, you'll need a few things installed and set up. This should be quick. \n",
    "\n",
    "1. QuestDB: To install Questdb you can see [Installation](https://questdb.io/getstarted) for complete instructions in case you want to use Docker, or `brew` on MacOS, but the easiest way is to download the binaries and run it directly. Instructions for that are [Here](https://questdb.io/docs/guideBinaries).\n",
    "2. Jupyter Notebooks: That's what this is. To run it, you should:\n",
    "    1. make **sure** you are running Python 3.x and _not_ Python 2.7. If you're in doubt, `python --version` will tell you.\n",
    "    2. install Jupyter Notebooks with `pip3 install --upgrade ipython jupyter`\n",
    "    3. make sure that the libraries we use in this tutorial are also installed with `pip3 install requests urlib matplotlib pandas`\n",
    "    4. clone this repository (`git clone https://github.com/davidgs/QuestNotebook`)\n",
    "    5. in the repository directory run `jupyter notebook`\n",
    "   \n",
    "That will get you right back to a page like this that is interactive, allowing you to run the code and interact with the database yourself.\n",
    "\n",
    "If you get errors like `ModuleNotFoundError: No module named 'requests'` for any of the libraries you installed above, double-check to make sure that you are actually using Python 3.x `jupytper --path` will let you know if Jupyter is using 2.7 or 3.x"
   ]
  },
  {
   "cell_type": "markdown",
   "metadata": {},
   "source": [
    "## Create A Database\n",
    "\n",
    "We will need someplace to store our data, so let's create a test database where we can put some random data.\n",
    "\n",
    "We will create a simple table with 5 columns, one of which is a `timestamp` \n",
    "\n",
    "The Create operation in QuestDB appends records to bottom of a table. If the table has a designated `timestamp`, new record timestamps must be superior or equal to the latest timestamp. Attempts to add a timestamp in middle of a table will result in a timestamp out of order error.\n",
    "\n",
    "* `cust_id` is the customer identifier. It uniquely identifies customer.\n",
    "* `balance_ccy` balance currency. We use `SYMBOL` here to avoid storing text against each record to save space and increase database performance.\n",
    "* `balance` is the current balance for customer and currency tuple.\n",
    "* `inactive` is used to flag deleted records.\n",
    "* `timestamp` timestamp in microseconds of the record. Note that if you receive the timestamp data as a string, it could also be inserted using `to_timestamp`.\n",
    "\n",
    "This should return a `200` status the first time you run it. If you run it more than once, subsequent runs will return `400` because the database already exists."
   ]
  },
  {
   "cell_type": "code",
   "execution_count": 2,
   "metadata": {
    "execution": {
     "iopub.execute_input": "2020-06-12T11:15:01.331Z",
     "iopub.status.busy": "2020-06-12T11:15:01.314Z",
     "iopub.status.idle": "2020-06-12T11:15:01.527Z",
     "shell.execute_reply": "2020-06-12T11:15:01.542Z"
    }
   },
   "outputs": [
    {
     "name": "stdout",
     "output_type": "stream",
     "text": [
      "400\n"
     ]
    }
   ],
   "source": [
    "import requests\n",
    "import urllib.parse as par\n",
    "\n",
    "q = 'create table balances'\\\n",
    "    '(cust_id int,'\\\n",
    "    ' balance_ccy symbol,'\\\n",
    "    'balance double,'\\\n",
    "    'inactive boolean,'\\\n",
    "    'timestamp timestamp)'\\\n",
    "    'timestamp(timestamp)'\n",
    "r = requests.get(\"http://localhost:9000/exec?query=\" + q)\n",
    "print(r.status_code)"
   ]
  },
  {
   "cell_type": "markdown",
   "metadata": {},
   "source": [
    "## Generate some Data\n",
    "\n",
    "Since we have a new setup, we should add some data to QuestDB so that we can have something to query. We will add some random data, for now. \n",
    "\n",
    "You can re-run this section as many times as you want to add 100 entries at a time, or simply change the `range(100)` to add as many datapoints as you wish.\n"
   ]
  },
  {
   "cell_type": "code",
   "execution_count": 3,
   "metadata": {
    "execution": {
     "iopub.execute_input": "2020-06-12T11:15:05.254Z",
     "iopub.status.busy": "2020-06-12T11:15:05.244Z",
     "iopub.status.idle": "2020-06-12T11:15:05.991Z",
     "shell.execute_reply": "2020-06-12T11:15:06.004Z"
    }
   },
   "outputs": [
    {
     "name": "stdout",
     "output_type": "stream",
     "text": [
      "Rows inserted: 100\n"
     ]
    }
   ],
   "source": [
    "import requests\n",
    "import random\n",
    "from datetime import datetime\n",
    "success = 0\n",
    "fail = 0\n",
    "currency = [\"USD\", \"EUR\", \"GBP\", \"JPY\"]\n",
    "random.seed()\n",
    "for x in range(100):\n",
    "    cust = random.randint(20, 42)\n",
    "    cur = random.choice(currency)\n",
    "    bal = round(random.uniform(10.45, 235.15), 2)\n",
    "    act = bool(random.getrandbits(1))\n",
    "    query = \"insert into balances values(\"\\\n",
    "        + str(cust) + \",'\"\\\n",
    "        + cur + \"',\" \\\n",
    "        + str(bal) + \",\" \\\n",
    "        + str(act) + \",systimestamp())\"\n",
    "    r = requests.get(\"http://localhost:9000/exec?query=\" + query)\n",
    "    if r.status_code == 200:\n",
    "        success += 1\n",
    "    else:\n",
    "        fail += 1\n",
    "    \n",
    "print(\"Rows inserted: \" + str(success))\n",
    "if fail > 0:\n",
    "    print(\"Rows Failed: \" + str(fail))\n",
    "    "
   ]
  },
  {
   "cell_type": "markdown",
   "metadata": {},
   "source": [
    "## Query Data from QuestDB\n",
    "\n",
    "Now that we have data available, let's try querying some of it to see what we get back!"
   ]
  },
  {
   "cell_type": "code",
   "execution_count": 4,
   "metadata": {
    "execution": {
     "iopub.execute_input": "2020-06-12T11:15:09.812Z",
     "iopub.status.busy": "2020-06-12T11:15:09.800Z",
     "iopub.status.idle": "2020-06-12T11:15:09.830Z",
     "shell.execute_reply": "2020-06-12T11:15:09.894Z"
    }
   },
   "outputs": [
    {
     "name": "stdout",
     "output_type": "stream",
     "text": [
      "\"cust_id\",\"balance_ccy\",\"balance\",\"inactive\",\"timestamp\"\r\n",
      "41,\"EUR\",176.26,false,\"2023-04-04T08:33:37.199924Z\"\r\n",
      "24,\"USD\",22.8,true,\"2023-04-04T08:33:37.227209Z\"\r\n",
      "20,\"JPY\",196.9,true,\"2023-04-04T08:33:37.234661Z\"\r\n",
      "27,\"GBP\",179.42,true,\"2023-04-04T08:33:37.240217Z\"\r\n",
      "29,\"JPY\",58.33,false,\"2023-04-04T08:33:37.246586Z\"\r\n",
      "20,\"EUR\",218.45,false,\"2023-04-04T08:33:37.252595Z\"\r\n",
      "24,\"GBP\",122.07,true,\"2023-04-04T08:33:37.257652Z\"\r\n",
      "30,\"GBP\",198.02,false,\"2023-04-04T08:33:37.266283Z\"\r\n",
      "35,\"GBP\",166.43,false,\"2023-04-04T08:33:37.271736Z\"\r\n",
      "28,\"USD\",233.04,false,\"2023-04-04T08:33:37.280146Z\"\r\n",
      "38,\"GBP\",87.66,false,\"2023-04-04T08:33:37.285478Z\"\r\n",
      "39,\"JPY\",95.64,false,\"2023-04-04T08:33:37.292720Z\"\r\n",
      "40,\"USD\",94.59,false,\"2023-04-04T08:33:37.297769Z\"\r\n",
      "37,\"JPY\",172.65,false,\"2023-04-04T08:33:37.303147Z\"\r\n",
      "21,\"JPY\",146.77,false,\"2023-04-04T08:33:37.308450Z\"\r\n",
      "38,\"JPY\",60.38,true,\"2023-04-04T08:33:37.315842Z\"\r\n",
      "41,\"USD\",219.01,false,\"2023-04-04T08:33:37.322261Z\"\r\n",
      "32,\"USD\",184.18,true,\"2023-04-04T08:33:37.326963Z\"\r\n",
      "41,\"JPY\",170.0,false,\"2023-04-04T08:33:37.331965Z\"\r\n",
      "37,\"EUR\",87.79,false,\"2023-04-04T08:33:37.337267Z\"\r\n",
      "26,\"USD\",118.63,true,\"2023-04-04T08:33:37.341804Z\"\r\n",
      "28,\"USD\",74.33,false,\"2023-04-04T08:33:37.347224Z\"\r\n",
      "40,\"EUR\",17.65,true,\"2023-04-04T08:33:37.351926Z\"\r\n",
      "31,\"GBP\",205.12,true,\"2023-04-04T08:33:37.357196Z\"\r\n",
      "36,\"USD\",47.71,true,\"2023-04-04T08:33:37.366129Z\"\r\n",
      "37,\"USD\",91.07,true,\"2023-04-04T08:33:37.373305Z\"\r\n",
      "31,\"USD\",70.55,false,\"2023-04-04T08:33:37.386202Z\"\r\n",
      "28,\"USD\",165.11,true,\"2023-04-04T08:33:37.391817Z\"\r\n",
      "25,\"USD\",33.94,true,\"2023-04-04T08:33:37.398882Z\"\r\n",
      "27,\"JPY\",108.03,false,\"2023-04-04T08:33:37.404275Z\"\r\n",
      "32,\"GBP\",95.28,true,\"2023-04-04T08:33:37.410555Z\"\r\n",
      "37,\"USD\",210.35,true,\"2023-04-04T08:33:37.419947Z\"\r\n",
      "30,\"USD\",51.69,false,\"2023-04-04T08:33:37.427282Z\"\r\n",
      "38,\"EUR\",80.68,true,\"2023-04-04T08:33:37.434371Z\"\r\n",
      "31,\"EUR\",145.39,true,\"2023-04-04T08:33:37.441750Z\"\r\n",
      "34,\"GBP\",95.24,false,\"2023-04-04T08:33:37.447435Z\"\r\n",
      "28,\"USD\",85.31,true,\"2023-04-04T08:33:37.454176Z\"\r\n",
      "41,\"EUR\",11.73,false,\"2023-04-04T08:33:37.467911Z\"\r\n",
      "32,\"USD\",183.68,false,\"2023-04-04T08:33:37.474343Z\"\r\n",
      "37,\"USD\",113.07,false,\"2023-04-04T08:33:37.483658Z\"\r\n",
      "38,\"USD\",38.07,true,\"2023-04-04T08:33:37.494583Z\"\r\n",
      "33,\"JPY\",223.55,false,\"2023-04-04T08:33:37.502521Z\"\r\n",
      "42,\"USD\",16.64,true,\"2023-04-04T08:33:37.509624Z\"\r\n",
      "25,\"USD\",40.46,false,\"2023-04-04T08:33:37.516758Z\"\r\n",
      "38,\"JPY\",159.1,false,\"2023-04-04T08:33:37.528102Z\"\r\n",
      "34,\"USD\",225.68,false,\"2023-04-04T08:33:37.533398Z\"\r\n",
      "37,\"EUR\",117.47,true,\"2023-04-04T08:33:37.542579Z\"\r\n",
      "27,\"GBP\",185.94,false,\"2023-04-04T08:33:37.558162Z\"\r\n",
      "26,\"GBP\",60.54,false,\"2023-04-04T08:33:37.564426Z\"\r\n",
      "30,\"EUR\",231.91,false,\"2023-04-04T08:33:37.575318Z\"\r\n",
      "26,\"GBP\",180.22,true,\"2023-04-04T08:33:37.582364Z\"\r\n",
      "28,\"EUR\",25.86,false,\"2023-04-04T08:33:37.590517Z\"\r\n",
      "32,\"EUR\",59.51,true,\"2023-04-04T08:33:37.597611Z\"\r\n",
      "42,\"EUR\",178.21,false,\"2023-04-04T08:33:37.605191Z\"\r\n",
      "38,\"GBP\",43.53,true,\"2023-04-04T08:33:37.611224Z\"\r\n",
      "26,\"USD\",81.02,false,\"2023-04-04T08:33:37.624369Z\"\r\n",
      "42,\"GBP\",93.88,false,\"2023-04-04T08:33:37.633333Z\"\r\n",
      "40,\"USD\",220.05,true,\"2023-04-04T08:33:37.640322Z\"\r\n",
      "32,\"USD\",224.59,false,\"2023-04-04T08:33:37.645969Z\"\r\n",
      "42,\"JPY\",130.79,false,\"2023-04-04T08:33:37.655163Z\"\r\n",
      "30,\"USD\",36.84,false,\"2023-04-04T08:33:37.661545Z\"\r\n",
      "42,\"EUR\",29.74,false,\"2023-04-04T08:33:37.669433Z\"\r\n",
      "39,\"EUR\",47.29,false,\"2023-04-04T08:33:37.674602Z\"\r\n",
      "25,\"GBP\",155.98,false,\"2023-04-04T08:33:37.682724Z\"\r\n",
      "29,\"USD\",56.93,false,\"2023-04-04T08:33:37.688492Z\"\r\n",
      "20,\"JPY\",16.24,true,\"2023-04-04T08:33:37.694864Z\"\r\n",
      "28,\"USD\",56.32,true,\"2023-04-04T08:33:37.702465Z\"\r\n",
      "22,\"USD\",214.67,true,\"2023-04-04T08:33:37.708761Z\"\r\n",
      "21,\"GBP\",49.33,true,\"2023-04-04T08:33:37.717813Z\"\r\n",
      "20,\"USD\",185.44,true,\"2023-04-04T08:33:37.723752Z\"\r\n",
      "29,\"USD\",49.17,true,\"2023-04-04T08:33:37.733319Z\"\r\n",
      "34,\"EUR\",98.0,true,\"2023-04-04T08:33:37.738712Z\"\r\n",
      "32,\"USD\",222.2,false,\"2023-04-04T08:33:37.750899Z\"\r\n",
      "39,\"USD\",57.38,false,\"2023-04-04T08:33:37.756531Z\"\r\n",
      "27,\"EUR\",116.38,false,\"2023-04-04T08:33:37.769383Z\"\r\n",
      "28,\"GBP\",150.9,false,\"2023-04-04T08:33:37.778681Z\"\r\n",
      "30,\"JPY\",17.25,true,\"2023-04-04T08:33:37.784338Z\"\r\n",
      "35,\"GBP\",116.74,true,\"2023-04-04T08:33:37.788976Z\"\r\n",
      "41,\"EUR\",151.26,true,\"2023-04-04T08:33:37.797403Z\"\r\n",
      "32,\"JPY\",182.01,true,\"2023-04-04T08:33:37.802329Z\"\r\n",
      "30,\"USD\",47.49,true,\"2023-04-04T08:33:37.819466Z\"\r\n",
      "33,\"JPY\",185.48,true,\"2023-04-04T08:33:37.826857Z\"\r\n",
      "32,\"EUR\",69.93,true,\"2023-04-04T08:33:37.833452Z\"\r\n",
      "27,\"USD\",61.5,false,\"2023-04-04T08:33:37.842133Z\"\r\n",
      "30,\"JPY\",227.72,true,\"2023-04-04T08:33:37.850568Z\"\r\n",
      "35,\"GBP\",213.69,false,\"2023-04-04T08:33:37.857794Z\"\r\n",
      "24,\"USD\",182.79,true,\"2023-04-04T08:33:37.868721Z\"\r\n",
      "24,\"EUR\",166.32,true,\"2023-04-04T08:33:37.878156Z\"\r\n",
      "22,\"JPY\",104.39,false,\"2023-04-04T08:33:37.888741Z\"\r\n",
      "24,\"GBP\",234.39,true,\"2023-04-04T08:33:37.911230Z\"\r\n",
      "37,\"USD\",128.08,true,\"2023-04-04T08:33:37.917803Z\"\r\n",
      "20,\"GBP\",205.28,true,\"2023-04-04T08:33:37.925395Z\"\r\n",
      "29,\"USD\",106.81,false,\"2023-04-04T08:33:37.929864Z\"\r\n",
      "40,\"JPY\",108.36,false,\"2023-04-04T08:33:37.935653Z\"\r\n",
      "39,\"GBP\",226.42,true,\"2023-04-04T08:33:37.950958Z\"\r\n",
      "40,\"EUR\",80.8,true,\"2023-04-04T08:33:37.958451Z\"\r\n",
      "33,\"JPY\",73.09,true,\"2023-04-04T08:33:37.963797Z\"\r\n",
      "21,\"GBP\",69.73,false,\"2023-04-04T08:33:37.972450Z\"\r\n",
      "37,\"USD\",64.05,true,\"2023-04-04T08:33:37.978270Z\"\r\n",
      "23,\"JPY\",11.74,false,\"2023-04-04T08:33:37.985176Z\"\r\n",
      "\n"
     ]
    }
   ],
   "source": [
    "import requests\n",
    "import io\n",
    "\n",
    "r = requests.get(\"http://localhost:9000/exp?query=select * from  balances\")\n",
    "rawData = r.text\n",
    "print(rawData)\n"
   ]
  },
  {
   "cell_type": "markdown",
   "metadata": {},
   "source": [
    "## Read the content into Pandas Dataframe\n",
    "\n",
    "So you'll notice that the returned data is just a massive `csv` string. If you'd rather have `json` data, then you would change the endpoint to `http://localhost:9000/exec ...` But since we're going to use Pandas to frame our data, we'll stick with `csv`.\n",
    "\n",
    "We are also telling pandas to parse the `timestamp` field as a date. This is important since we're dealing with Time Series data."
   ]
  },
  {
   "cell_type": "code",
   "execution_count": 5,
   "metadata": {
    "execution": {
     "iopub.execute_input": "2020-06-12T11:15:18.092Z",
     "iopub.status.busy": "2020-06-12T11:15:18.087Z",
     "iopub.status.idle": "2020-06-12T11:15:21.215Z",
     "shell.execute_reply": "2020-06-12T11:15:21.225Z"
    }
   },
   "outputs": [
    {
     "name": "stdout",
     "output_type": "stream",
     "text": [
      "    cust_id balance_ccy  balance  inactive                        timestamp\n",
      "0        41         EUR   176.26     False 2023-04-04 08:33:37.199924+00:00\n",
      "1        24         USD    22.80      True 2023-04-04 08:33:37.227209+00:00\n",
      "2        20         JPY   196.90      True 2023-04-04 08:33:37.234661+00:00\n",
      "3        27         GBP   179.42      True 2023-04-04 08:33:37.240217+00:00\n",
      "4        29         JPY    58.33     False 2023-04-04 08:33:37.246586+00:00\n",
      "..      ...         ...      ...       ...                              ...\n",
      "95       40         EUR    80.80      True 2023-04-04 08:33:37.958451+00:00\n",
      "96       33         JPY    73.09      True 2023-04-04 08:33:37.963797+00:00\n",
      "97       21         GBP    69.73     False 2023-04-04 08:33:37.972450+00:00\n",
      "98       37         USD    64.05      True 2023-04-04 08:33:37.978270+00:00\n",
      "99       23         JPY    11.74     False 2023-04-04 08:33:37.985176+00:00\n",
      "\n",
      "[100 rows x 5 columns]\n"
     ]
    }
   ],
   "source": [
    "import pandas as pd\n",
    "\n",
    "pData = pd.read_csv(io.StringIO(rawData), parse_dates=['timestamp'])\n",
    "print(pData)\n"
   ]
  },
  {
   "cell_type": "markdown",
   "metadata": {
    "scrolled": true
   },
   "source": [
    "## Narrow the search\n",
    "\n",
    "That's just getting us *all* the data, but let's narrow the search using some SQL clauses. Let's look for a specific `cust_id` and only balances of that customer that are in $s. We are also only interested in times the customer was `active` Since this is SQL, you can make this query as simple, or as complex, as you'd like.\n",
    "\n",
    "Since all of the data was generated randomly, this exact query may return no results, so you may have to adjust the `cust_id` below until you get results back. \n",
    "\n",
    "***Note:** The query string _must_ be URL-encoded before it is sent."
   ]
  },
  {
   "cell_type": "code",
   "execution_count": 9,
   "metadata": {
    "execution": {
     "iopub.execute_input": "2020-06-12T11:15:27.567Z",
     "iopub.status.busy": "2020-06-12T11:15:27.557Z",
     "iopub.status.idle": "2020-06-12T11:15:27.578Z",
     "shell.execute_reply": "2020-06-12T11:15:27.588Z"
    },
    "scrolled": true
   },
   "outputs": [
    {
     "ename": "FileNotFoundError",
     "evalue": "[Errno 2] No such file or directory: '\"cust_id\",\"balance\",\"balance_ccy\",\"inactive\",\"timestamp\"\\r\\n21,146.77,\"JPY\",false,\"2023-04-04T08:33:37.308450Z\"\\r\\n21,49.33,\"GBP\",true,\"2023-04-04T08:33:37.717813Z\"\\r\\n21,69.73,\"GBP\",false,\"2023-04-04T08:33:37.972450Z\"\\r\\n'",
     "output_type": "error",
     "traceback": [
      "\u001b[0;31m---------------------------------------------------------------------------\u001b[0m",
      "\u001b[0;31mFileNotFoundError\u001b[0m                         Traceback (most recent call last)",
      "Cell \u001b[0;32mIn[9], line 13\u001b[0m\n\u001b[1;32m     11\u001b[0m r \u001b[38;5;241m=\u001b[39m requests\u001b[38;5;241m.\u001b[39mget(\u001b[38;5;124m\"\u001b[39m\u001b[38;5;124mhttp://localhost:9000/exp?query=\u001b[39m\u001b[38;5;124m\"\u001b[39m \u001b[38;5;241m+\u001b[39m query)\n\u001b[1;32m     12\u001b[0m queryData \u001b[38;5;241m=\u001b[39m r\u001b[38;5;241m.\u001b[39mcontent\n\u001b[0;32m---> 13\u001b[0m rawData \u001b[38;5;241m=\u001b[39m \u001b[43mpd\u001b[49m\u001b[38;5;241;43m.\u001b[39;49m\u001b[43mread_csv\u001b[49m\u001b[43m(\u001b[49m\u001b[43mqueryData\u001b[49m\u001b[38;5;241;43m.\u001b[39;49m\u001b[43mdecode\u001b[49m\u001b[43m(\u001b[49m\u001b[38;5;124;43m'\u001b[39;49m\u001b[38;5;124;43mutf-8\u001b[39;49m\u001b[38;5;124;43m'\u001b[39;49m\u001b[43m)\u001b[49m\u001b[43m,\u001b[49m\u001b[43m \u001b[49m\u001b[43mparse_dates\u001b[49m\u001b[38;5;241;43m=\u001b[39;49m\u001b[43m[\u001b[49m\u001b[38;5;124;43m'\u001b[39;49m\u001b[38;5;124;43mtimestamp\u001b[39;49m\u001b[38;5;124;43m'\u001b[39;49m\u001b[43m]\u001b[49m\u001b[43m)\u001b[49m\n\u001b[1;32m     14\u001b[0m \u001b[38;5;28mprint\u001b[39m(rawData)\n",
      "File \u001b[0;32m/opt/homebrew/lib/python3.10/site-packages/pandas/util/_decorators.py:211\u001b[0m, in \u001b[0;36mdeprecate_kwarg.<locals>._deprecate_kwarg.<locals>.wrapper\u001b[0;34m(*args, **kwargs)\u001b[0m\n\u001b[1;32m    209\u001b[0m     \u001b[38;5;28;01melse\u001b[39;00m:\n\u001b[1;32m    210\u001b[0m         kwargs[new_arg_name] \u001b[38;5;241m=\u001b[39m new_arg_value\n\u001b[0;32m--> 211\u001b[0m \u001b[38;5;28;01mreturn\u001b[39;00m \u001b[43mfunc\u001b[49m\u001b[43m(\u001b[49m\u001b[38;5;241;43m*\u001b[39;49m\u001b[43margs\u001b[49m\u001b[43m,\u001b[49m\u001b[43m \u001b[49m\u001b[38;5;241;43m*\u001b[39;49m\u001b[38;5;241;43m*\u001b[39;49m\u001b[43mkwargs\u001b[49m\u001b[43m)\u001b[49m\n",
      "File \u001b[0;32m/opt/homebrew/lib/python3.10/site-packages/pandas/util/_decorators.py:331\u001b[0m, in \u001b[0;36mdeprecate_nonkeyword_arguments.<locals>.decorate.<locals>.wrapper\u001b[0;34m(*args, **kwargs)\u001b[0m\n\u001b[1;32m    325\u001b[0m \u001b[38;5;28;01mif\u001b[39;00m \u001b[38;5;28mlen\u001b[39m(args) \u001b[38;5;241m>\u001b[39m num_allow_args:\n\u001b[1;32m    326\u001b[0m     warnings\u001b[38;5;241m.\u001b[39mwarn(\n\u001b[1;32m    327\u001b[0m         msg\u001b[38;5;241m.\u001b[39mformat(arguments\u001b[38;5;241m=\u001b[39m_format_argument_list(allow_args)),\n\u001b[1;32m    328\u001b[0m         \u001b[38;5;167;01mFutureWarning\u001b[39;00m,\n\u001b[1;32m    329\u001b[0m         stacklevel\u001b[38;5;241m=\u001b[39mfind_stack_level(),\n\u001b[1;32m    330\u001b[0m     )\n\u001b[0;32m--> 331\u001b[0m \u001b[38;5;28;01mreturn\u001b[39;00m \u001b[43mfunc\u001b[49m\u001b[43m(\u001b[49m\u001b[38;5;241;43m*\u001b[39;49m\u001b[43margs\u001b[49m\u001b[43m,\u001b[49m\u001b[43m \u001b[49m\u001b[38;5;241;43m*\u001b[39;49m\u001b[38;5;241;43m*\u001b[39;49m\u001b[43mkwargs\u001b[49m\u001b[43m)\u001b[49m\n",
      "File \u001b[0;32m/opt/homebrew/lib/python3.10/site-packages/pandas/io/parsers/readers.py:950\u001b[0m, in \u001b[0;36mread_csv\u001b[0;34m(filepath_or_buffer, sep, delimiter, header, names, index_col, usecols, squeeze, prefix, mangle_dupe_cols, dtype, engine, converters, true_values, false_values, skipinitialspace, skiprows, skipfooter, nrows, na_values, keep_default_na, na_filter, verbose, skip_blank_lines, parse_dates, infer_datetime_format, keep_date_col, date_parser, dayfirst, cache_dates, iterator, chunksize, compression, thousands, decimal, lineterminator, quotechar, quoting, doublequote, escapechar, comment, encoding, encoding_errors, dialect, error_bad_lines, warn_bad_lines, on_bad_lines, delim_whitespace, low_memory, memory_map, float_precision, storage_options)\u001b[0m\n\u001b[1;32m    935\u001b[0m kwds_defaults \u001b[38;5;241m=\u001b[39m _refine_defaults_read(\n\u001b[1;32m    936\u001b[0m     dialect,\n\u001b[1;32m    937\u001b[0m     delimiter,\n\u001b[0;32m   (...)\u001b[0m\n\u001b[1;32m    946\u001b[0m     defaults\u001b[38;5;241m=\u001b[39m{\u001b[38;5;124m\"\u001b[39m\u001b[38;5;124mdelimiter\u001b[39m\u001b[38;5;124m\"\u001b[39m: \u001b[38;5;124m\"\u001b[39m\u001b[38;5;124m,\u001b[39m\u001b[38;5;124m\"\u001b[39m},\n\u001b[1;32m    947\u001b[0m )\n\u001b[1;32m    948\u001b[0m kwds\u001b[38;5;241m.\u001b[39mupdate(kwds_defaults)\n\u001b[0;32m--> 950\u001b[0m \u001b[38;5;28;01mreturn\u001b[39;00m \u001b[43m_read\u001b[49m\u001b[43m(\u001b[49m\u001b[43mfilepath_or_buffer\u001b[49m\u001b[43m,\u001b[49m\u001b[43m \u001b[49m\u001b[43mkwds\u001b[49m\u001b[43m)\u001b[49m\n",
      "File \u001b[0;32m/opt/homebrew/lib/python3.10/site-packages/pandas/io/parsers/readers.py:605\u001b[0m, in \u001b[0;36m_read\u001b[0;34m(filepath_or_buffer, kwds)\u001b[0m\n\u001b[1;32m    602\u001b[0m _validate_names(kwds\u001b[38;5;241m.\u001b[39mget(\u001b[38;5;124m\"\u001b[39m\u001b[38;5;124mnames\u001b[39m\u001b[38;5;124m\"\u001b[39m, \u001b[38;5;28;01mNone\u001b[39;00m))\n\u001b[1;32m    604\u001b[0m \u001b[38;5;66;03m# Create the parser.\u001b[39;00m\n\u001b[0;32m--> 605\u001b[0m parser \u001b[38;5;241m=\u001b[39m \u001b[43mTextFileReader\u001b[49m\u001b[43m(\u001b[49m\u001b[43mfilepath_or_buffer\u001b[49m\u001b[43m,\u001b[49m\u001b[43m \u001b[49m\u001b[38;5;241;43m*\u001b[39;49m\u001b[38;5;241;43m*\u001b[39;49m\u001b[43mkwds\u001b[49m\u001b[43m)\u001b[49m\n\u001b[1;32m    607\u001b[0m \u001b[38;5;28;01mif\u001b[39;00m chunksize \u001b[38;5;129;01mor\u001b[39;00m iterator:\n\u001b[1;32m    608\u001b[0m     \u001b[38;5;28;01mreturn\u001b[39;00m parser\n",
      "File \u001b[0;32m/opt/homebrew/lib/python3.10/site-packages/pandas/io/parsers/readers.py:1442\u001b[0m, in \u001b[0;36mTextFileReader.__init__\u001b[0;34m(self, f, engine, **kwds)\u001b[0m\n\u001b[1;32m   1439\u001b[0m     \u001b[38;5;28mself\u001b[39m\u001b[38;5;241m.\u001b[39moptions[\u001b[38;5;124m\"\u001b[39m\u001b[38;5;124mhas_index_names\u001b[39m\u001b[38;5;124m\"\u001b[39m] \u001b[38;5;241m=\u001b[39m kwds[\u001b[38;5;124m\"\u001b[39m\u001b[38;5;124mhas_index_names\u001b[39m\u001b[38;5;124m\"\u001b[39m]\n\u001b[1;32m   1441\u001b[0m \u001b[38;5;28mself\u001b[39m\u001b[38;5;241m.\u001b[39mhandles: IOHandles \u001b[38;5;241m|\u001b[39m \u001b[38;5;28;01mNone\u001b[39;00m \u001b[38;5;241m=\u001b[39m \u001b[38;5;28;01mNone\u001b[39;00m\n\u001b[0;32m-> 1442\u001b[0m \u001b[38;5;28mself\u001b[39m\u001b[38;5;241m.\u001b[39m_engine \u001b[38;5;241m=\u001b[39m \u001b[38;5;28;43mself\u001b[39;49m\u001b[38;5;241;43m.\u001b[39;49m\u001b[43m_make_engine\u001b[49m\u001b[43m(\u001b[49m\u001b[43mf\u001b[49m\u001b[43m,\u001b[49m\u001b[43m \u001b[49m\u001b[38;5;28;43mself\u001b[39;49m\u001b[38;5;241;43m.\u001b[39;49m\u001b[43mengine\u001b[49m\u001b[43m)\u001b[49m\n",
      "File \u001b[0;32m/opt/homebrew/lib/python3.10/site-packages/pandas/io/parsers/readers.py:1735\u001b[0m, in \u001b[0;36mTextFileReader._make_engine\u001b[0;34m(self, f, engine)\u001b[0m\n\u001b[1;32m   1733\u001b[0m     \u001b[38;5;28;01mif\u001b[39;00m \u001b[38;5;124m\"\u001b[39m\u001b[38;5;124mb\u001b[39m\u001b[38;5;124m\"\u001b[39m \u001b[38;5;129;01mnot\u001b[39;00m \u001b[38;5;129;01min\u001b[39;00m mode:\n\u001b[1;32m   1734\u001b[0m         mode \u001b[38;5;241m+\u001b[39m\u001b[38;5;241m=\u001b[39m \u001b[38;5;124m\"\u001b[39m\u001b[38;5;124mb\u001b[39m\u001b[38;5;124m\"\u001b[39m\n\u001b[0;32m-> 1735\u001b[0m \u001b[38;5;28mself\u001b[39m\u001b[38;5;241m.\u001b[39mhandles \u001b[38;5;241m=\u001b[39m \u001b[43mget_handle\u001b[49m\u001b[43m(\u001b[49m\n\u001b[1;32m   1736\u001b[0m \u001b[43m    \u001b[49m\u001b[43mf\u001b[49m\u001b[43m,\u001b[49m\n\u001b[1;32m   1737\u001b[0m \u001b[43m    \u001b[49m\u001b[43mmode\u001b[49m\u001b[43m,\u001b[49m\n\u001b[1;32m   1738\u001b[0m \u001b[43m    \u001b[49m\u001b[43mencoding\u001b[49m\u001b[38;5;241;43m=\u001b[39;49m\u001b[38;5;28;43mself\u001b[39;49m\u001b[38;5;241;43m.\u001b[39;49m\u001b[43moptions\u001b[49m\u001b[38;5;241;43m.\u001b[39;49m\u001b[43mget\u001b[49m\u001b[43m(\u001b[49m\u001b[38;5;124;43m\"\u001b[39;49m\u001b[38;5;124;43mencoding\u001b[39;49m\u001b[38;5;124;43m\"\u001b[39;49m\u001b[43m,\u001b[49m\u001b[43m \u001b[49m\u001b[38;5;28;43;01mNone\u001b[39;49;00m\u001b[43m)\u001b[49m\u001b[43m,\u001b[49m\n\u001b[1;32m   1739\u001b[0m \u001b[43m    \u001b[49m\u001b[43mcompression\u001b[49m\u001b[38;5;241;43m=\u001b[39;49m\u001b[38;5;28;43mself\u001b[39;49m\u001b[38;5;241;43m.\u001b[39;49m\u001b[43moptions\u001b[49m\u001b[38;5;241;43m.\u001b[39;49m\u001b[43mget\u001b[49m\u001b[43m(\u001b[49m\u001b[38;5;124;43m\"\u001b[39;49m\u001b[38;5;124;43mcompression\u001b[39;49m\u001b[38;5;124;43m\"\u001b[39;49m\u001b[43m,\u001b[49m\u001b[43m \u001b[49m\u001b[38;5;28;43;01mNone\u001b[39;49;00m\u001b[43m)\u001b[49m\u001b[43m,\u001b[49m\n\u001b[1;32m   1740\u001b[0m \u001b[43m    \u001b[49m\u001b[43mmemory_map\u001b[49m\u001b[38;5;241;43m=\u001b[39;49m\u001b[38;5;28;43mself\u001b[39;49m\u001b[38;5;241;43m.\u001b[39;49m\u001b[43moptions\u001b[49m\u001b[38;5;241;43m.\u001b[39;49m\u001b[43mget\u001b[49m\u001b[43m(\u001b[49m\u001b[38;5;124;43m\"\u001b[39;49m\u001b[38;5;124;43mmemory_map\u001b[39;49m\u001b[38;5;124;43m\"\u001b[39;49m\u001b[43m,\u001b[49m\u001b[43m \u001b[49m\u001b[38;5;28;43;01mFalse\u001b[39;49;00m\u001b[43m)\u001b[49m\u001b[43m,\u001b[49m\n\u001b[1;32m   1741\u001b[0m \u001b[43m    \u001b[49m\u001b[43mis_text\u001b[49m\u001b[38;5;241;43m=\u001b[39;49m\u001b[43mis_text\u001b[49m\u001b[43m,\u001b[49m\n\u001b[1;32m   1742\u001b[0m \u001b[43m    \u001b[49m\u001b[43merrors\u001b[49m\u001b[38;5;241;43m=\u001b[39;49m\u001b[38;5;28;43mself\u001b[39;49m\u001b[38;5;241;43m.\u001b[39;49m\u001b[43moptions\u001b[49m\u001b[38;5;241;43m.\u001b[39;49m\u001b[43mget\u001b[49m\u001b[43m(\u001b[49m\u001b[38;5;124;43m\"\u001b[39;49m\u001b[38;5;124;43mencoding_errors\u001b[39;49m\u001b[38;5;124;43m\"\u001b[39;49m\u001b[43m,\u001b[49m\u001b[43m \u001b[49m\u001b[38;5;124;43m\"\u001b[39;49m\u001b[38;5;124;43mstrict\u001b[39;49m\u001b[38;5;124;43m\"\u001b[39;49m\u001b[43m)\u001b[49m\u001b[43m,\u001b[49m\n\u001b[1;32m   1743\u001b[0m \u001b[43m    \u001b[49m\u001b[43mstorage_options\u001b[49m\u001b[38;5;241;43m=\u001b[39;49m\u001b[38;5;28;43mself\u001b[39;49m\u001b[38;5;241;43m.\u001b[39;49m\u001b[43moptions\u001b[49m\u001b[38;5;241;43m.\u001b[39;49m\u001b[43mget\u001b[49m\u001b[43m(\u001b[49m\u001b[38;5;124;43m\"\u001b[39;49m\u001b[38;5;124;43mstorage_options\u001b[39;49m\u001b[38;5;124;43m\"\u001b[39;49m\u001b[43m,\u001b[49m\u001b[43m \u001b[49m\u001b[38;5;28;43;01mNone\u001b[39;49;00m\u001b[43m)\u001b[49m\u001b[43m,\u001b[49m\n\u001b[1;32m   1744\u001b[0m \u001b[43m\u001b[49m\u001b[43m)\u001b[49m\n\u001b[1;32m   1745\u001b[0m \u001b[38;5;28;01massert\u001b[39;00m \u001b[38;5;28mself\u001b[39m\u001b[38;5;241m.\u001b[39mhandles \u001b[38;5;129;01mis\u001b[39;00m \u001b[38;5;129;01mnot\u001b[39;00m \u001b[38;5;28;01mNone\u001b[39;00m\n\u001b[1;32m   1746\u001b[0m f \u001b[38;5;241m=\u001b[39m \u001b[38;5;28mself\u001b[39m\u001b[38;5;241m.\u001b[39mhandles\u001b[38;5;241m.\u001b[39mhandle\n",
      "File \u001b[0;32m/opt/homebrew/lib/python3.10/site-packages/pandas/io/common.py:856\u001b[0m, in \u001b[0;36mget_handle\u001b[0;34m(path_or_buf, mode, encoding, compression, memory_map, is_text, errors, storage_options)\u001b[0m\n\u001b[1;32m    851\u001b[0m \u001b[38;5;28;01melif\u001b[39;00m \u001b[38;5;28misinstance\u001b[39m(handle, \u001b[38;5;28mstr\u001b[39m):\n\u001b[1;32m    852\u001b[0m     \u001b[38;5;66;03m# Check whether the filename is to be opened in binary mode.\u001b[39;00m\n\u001b[1;32m    853\u001b[0m     \u001b[38;5;66;03m# Binary mode does not support 'encoding' and 'newline'.\u001b[39;00m\n\u001b[1;32m    854\u001b[0m     \u001b[38;5;28;01mif\u001b[39;00m ioargs\u001b[38;5;241m.\u001b[39mencoding \u001b[38;5;129;01mand\u001b[39;00m \u001b[38;5;124m\"\u001b[39m\u001b[38;5;124mb\u001b[39m\u001b[38;5;124m\"\u001b[39m \u001b[38;5;129;01mnot\u001b[39;00m \u001b[38;5;129;01min\u001b[39;00m ioargs\u001b[38;5;241m.\u001b[39mmode:\n\u001b[1;32m    855\u001b[0m         \u001b[38;5;66;03m# Encoding\u001b[39;00m\n\u001b[0;32m--> 856\u001b[0m         handle \u001b[38;5;241m=\u001b[39m \u001b[38;5;28;43mopen\u001b[39;49m\u001b[43m(\u001b[49m\n\u001b[1;32m    857\u001b[0m \u001b[43m            \u001b[49m\u001b[43mhandle\u001b[49m\u001b[43m,\u001b[49m\n\u001b[1;32m    858\u001b[0m \u001b[43m            \u001b[49m\u001b[43mioargs\u001b[49m\u001b[38;5;241;43m.\u001b[39;49m\u001b[43mmode\u001b[49m\u001b[43m,\u001b[49m\n\u001b[1;32m    859\u001b[0m \u001b[43m            \u001b[49m\u001b[43mencoding\u001b[49m\u001b[38;5;241;43m=\u001b[39;49m\u001b[43mioargs\u001b[49m\u001b[38;5;241;43m.\u001b[39;49m\u001b[43mencoding\u001b[49m\u001b[43m,\u001b[49m\n\u001b[1;32m    860\u001b[0m \u001b[43m            \u001b[49m\u001b[43merrors\u001b[49m\u001b[38;5;241;43m=\u001b[39;49m\u001b[43merrors\u001b[49m\u001b[43m,\u001b[49m\n\u001b[1;32m    861\u001b[0m \u001b[43m            \u001b[49m\u001b[43mnewline\u001b[49m\u001b[38;5;241;43m=\u001b[39;49m\u001b[38;5;124;43m\"\u001b[39;49m\u001b[38;5;124;43m\"\u001b[39;49m\u001b[43m,\u001b[49m\n\u001b[1;32m    862\u001b[0m \u001b[43m        \u001b[49m\u001b[43m)\u001b[49m\n\u001b[1;32m    863\u001b[0m     \u001b[38;5;28;01melse\u001b[39;00m:\n\u001b[1;32m    864\u001b[0m         \u001b[38;5;66;03m# Binary mode\u001b[39;00m\n\u001b[1;32m    865\u001b[0m         handle \u001b[38;5;241m=\u001b[39m \u001b[38;5;28mopen\u001b[39m(handle, ioargs\u001b[38;5;241m.\u001b[39mmode)\n",
      "\u001b[0;31mFileNotFoundError\u001b[0m: [Errno 2] No such file or directory: '\"cust_id\",\"balance\",\"balance_ccy\",\"inactive\",\"timestamp\"\\r\\n21,146.77,\"JPY\",false,\"2023-04-04T08:33:37.308450Z\"\\r\\n21,49.33,\"GBP\",true,\"2023-04-04T08:33:37.717813Z\"\\r\\n21,69.73,\"GBP\",false,\"2023-04-04T08:33:37.972450Z\"\\r\\n'"
     ]
    }
   ],
   "source": [
    "import urllib.parse\n",
    "\n",
    "q = \"select cust_id,\"\\\n",
    "    \" balance,\"\\\n",
    "    \" balance_ccy,\"\\\n",
    "    \" inactive,\"\\\n",
    "    \" timestamp\"\\\n",
    "    \" from balances\"\\\n",
    "    \" where cust_id = 21\"\n",
    "query = urllib.parse.quote(q)\n",
    "r = requests.get(\"http://localhost:9000/exp?query=\" + query)\n",
    "queryData = r.content\n",
    "rawData = pd.read_csv(queryData.decode('utf-8'), parse_dates=['timestamp'])\n",
    "print(rawData)"
   ]
  },
  {
   "cell_type": "markdown",
   "metadata": {},
   "source": [
    "## Plot the data\n",
    "\n",
    "We will use `matplotlib` to plot the data"
   ]
  },
  {
   "cell_type": "code",
   "execution_count": 21,
   "metadata": {
    "execution": {
     "iopub.execute_input": "2020-06-12T11:15:32.233Z",
     "iopub.status.busy": "2020-06-12T11:15:32.225Z",
     "iopub.status.idle": "2020-06-12T11:15:32.735Z",
     "shell.execute_reply": "2020-06-12T11:15:32.741Z"
    },
    "scrolled": true
   },
   "outputs": [
    {
     "data": {
      "text/plain": [
       "array([<Axes: xlabel='timestamp'>], dtype=object)"
      ]
     },
     "execution_count": 21,
     "metadata": {},
     "output_type": "execute_result"
    },
    {
     "data": {
      "image/png": "[encoded data removed]",
      "text/plain": [
       "<Figure size 640x480 with 1 Axes>"
      ]
     },
     "metadata": {},
     "output_type": "display_data"
    }
   ],
   "source": [
    "from matplotlib import pyplot as plt\n",
    "\n",
    "rawData.plot(\"timestamp\", [\"balance\"], subplots=True)\n",
    "\n"
   ]
  },
  {
   "cell_type": "markdown",
   "metadata": {},
   "source": [
    "## Clean up\n",
    "\n",
    "Now we will clean everything up for the next time. "
   ]
  },
  {
   "cell_type": "code",
   "execution_count": 19,
   "metadata": {},
   "outputs": [
    {
     "name": "stdout",
     "output_type": "stream",
     "text": [
      "Database Table not Dropped: 400\n"
     ]
    }
   ],
   "source": [
    "r = requests.get(\"http://localhost:9000/exec?query=drop table balances\")\n",
    "if r.status_code == 200:\n",
    "    print(\"Database Table dropped\")\n",
    "else:\n",
    "        print(\"Database Table not Dropped: \" + str(r.status_code))"
   ]
  },
  {
   "cell_type": "code",
   "execution_count": null,
   "metadata": {},
   "outputs": [],
   "source": []
  }
 ],
 "metadata": {
  "kernelspec": {
   "display_name": "Python 3 (ipykernel)",
   "language": "python",
   "name": "python3"
  },
  "language_info": {
   "codemirror_mode": {
    "name": "ipython",
    "version": 3
   },
   "file_extension": ".py",
   "mimetype": "text/x-python",
   "name": "python",
   "nbconvert_exporter": "python",
   "pygments_lexer": "ipython3",
   "version": "3.10.10"
  },
  "nteract": {
   "version": "0.23.3"
  }
 },
 "nbformat": 4,
 "nbformat_minor": 2
}
